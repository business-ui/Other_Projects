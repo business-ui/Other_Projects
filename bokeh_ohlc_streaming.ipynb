{
 "cells": [
  {
   "cell_type": "code",
   "execution_count": null,
   "metadata": {},
   "outputs": [],
   "source": [
    "import numpy as np\n",
    "from bokeh.plotting import figure, curdoc\n",
    "from math import pi\n",
    "import datetime\n",
    "from bokeh.models import ColumnDataSource, Select, Slider\n",
    "from bokeh.driving import count\n",
    "from bokeh.layouts import column, gridplot, row\n",
    "from random import gauss\n",
    "import time"
   ]
  },
  {
   "cell_type": "code",
   "execution_count": null,
   "metadata": {},
   "outputs": [],
   "source": [
    "source = ColumnDataSource(dict(\n",
    "    time=[], average=[], low=[], high=[], open=[], close=[],\n",
    "    ma=[], macd=[], macd9=[], macdh=[], color=[]\n",
    "))"
   ]
  },
  {
   "cell_type": "code",
   "execution_count": null,
   "metadata": {},
   "outputs": [],
   "source": [
    "MA12, MA26, EMA12, EMA26 = '12-tick Moving Avg', '26-tick Moving Avg', '12-tick EMA', '26-tick EMA'"
   ]
  },
  {
   "cell_type": "code",
   "execution_count": null,
   "metadata": {},
   "outputs": [],
   "source": [
    "print(source.data)"
   ]
  },
  {
   "cell_type": "code",
   "execution_count": null,
   "metadata": {},
   "outputs": [],
   "source": [
    "p = figure(plot_height=500,\n",
    "           tools='xpan,xwheel_zoom,xbox_zoom,reset',\n",
    "           x_axis_type=None, \n",
    "           y_axis_location='right')\n",
    "p.x_range.follow = 'end'\n",
    "p.x_range.follow_interval=100\n",
    "p.x_range.range_padding=0\n",
    "\n",
    "p.line(x='time',y='average',alpha=0.2,line_width=3,color='navy',source=source)\n",
    "p.line(x='time',y='ma',alpha=0.8,line_width=2,color='orange',source=source)\n",
    "p.segment(x0='time',y0='low',x1='time',y1='high',line_width=2,color='black',source=source)\n",
    "p.segment(x0='time',y0='open',x1='time',y1='close',line_width=8,color='black',source=source)"
   ]
  },
  {
   "cell_type": "code",
   "execution_count": null,
   "metadata": {},
   "outputs": [],
   "source": [
    "p2 = figure(plot_height=250,\n",
    "            x_range=p.x_range,\n",
    "            tools='xpan,xwheel_zoom,xbox_zoom,reset',\n",
    "            y_axis_location='right')\n",
    "p2.line(x='time', y='macd', color='red', source=source)\n",
    "p2.line(x='time', y='macd9', color='blue', source=source)\n",
    "p2.segment(x0='time', y0=0, x1='time',y1='macdh', line_width=6, color='black', alpha=0.5, source=source)"
   ]
  },
  {
   "cell_type": "code",
   "execution_count": null,
   "metadata": {},
   "outputs": [],
   "source": [
    "mean = Slider(title=\"mean\", value=0, start=-.01, end=.01, step=.001)\n",
    "stddev = Slider(title=\"std\", value=0.04, start=0.01, end=0.1, step=0.01)\n",
    "mavg = Select(value=MA12, options=[MA12, MA26, EMA12, EMA26])"
   ]
  },
  {
   "cell_type": "code",
   "execution_count": null,
   "metadata": {},
   "outputs": [],
   "source": [
    "def _create_prices(t):\n",
    "    if t==0:\n",
    "        last_average = 100\n",
    "    else:\n",
    "        last_average = source.data['average'][-1]\n",
    "    returns = np.asarray(np.random.lognormal(mean.value, stddev.value, 1))\n",
    "    average =  last_average * np.cumprod(returns)\n",
    "    high = average * np.exp(abs(np.random.gamma(1, 0.03, size=1)))\n",
    "    low = average / np.exp(abs(np.random.gamma(1, 0.03, size=1)))\n",
    "    delta = high - low\n",
    "    open = low + delta * np.random.uniform(0.05, 0.95, size=1)\n",
    "    close = low + delta * np.random.uniform(0.05, 0.95, size=1)\n",
    "    return open[0], high[0], low[0], close[0], average[0]"
   ]
  },
  {
   "cell_type": "code",
   "execution_count": null,
   "metadata": {},
   "outputs": [],
   "source": [
    "def _moving_avg(prices, days=10):\n",
    "    if len(prices) < days:\n",
    "        return [100]\n",
    "    else:\n",
    "        return np.convolve(prices[-days:], np.ones(days, dtype=float), mode=\"valid\") / days"
   ]
  },
  {
   "cell_type": "code",
   "execution_count": null,
   "metadata": {},
   "outputs": [],
   "source": [
    "def _ema(prices, days=10):\n",
    "    if len(prices) < days or days < 2: \n",
    "        return [prices[-1]]\n",
    "    a = 2.0 / (days+1)\n",
    "    kernel = np.ones(days, dtype=float)\n",
    "    kernel[1:] = 1 - a\n",
    "    kernel = a * np.cumprod(kernel)\n",
    "    # The 0.8647 normalizes out that we stop the EMA after a finite number of terms\n",
    "    return np.convolve(prices[-days:], kernel, mode=\"valid\") / (0.8647)"
   ]
  },
  {
   "cell_type": "code",
   "execution_count": null,
   "metadata": {},
   "outputs": [],
   "source": [
    "@count()\n",
    "def update(t):\n",
    "    open, high, low, close, average = _create_prices(t)\n",
    "    if open < close:\n",
    "        color = \"green\" \n",
    "    else:\n",
    "        color = \"red\"\n",
    "\n",
    "    new_data = dict(\n",
    "        time=[t],\n",
    "        open=[open],\n",
    "        high=[high],\n",
    "        low=[low],\n",
    "        close=[close],\n",
    "        average=[average],\n",
    "        color=[color],\n",
    "    )\n",
    "\n",
    "    close = source.data['close'] + [close]\n",
    "    ma12 = _moving_avg(close[-12:], 12)[0]\n",
    "    ma26 = _moving_avg(close[-26:], 26)[0]\n",
    "    ema12 = _ema(close[-12:], 12)[0]\n",
    "    ema26 = _ema(close[-26:], 26)[0]\n",
    "\n",
    "    if   mavg.value == MA12:  new_data['ma'] = [ma12]\n",
    "    elif mavg.value == MA26:  new_data['ma'] = [ma26]\n",
    "    elif mavg.value == EMA12: new_data['ma'] = [ema12]\n",
    "    elif mavg.value == EMA26: new_data['ma'] = [ema26]\n",
    "\n",
    "    macd = ema12 - ema26\n",
    "    new_data['macd'] = [macd]\n",
    "\n",
    "    macd_series = source.data['macd'] + [macd]\n",
    "    macd9 = _ema(macd_series[-26:], 9)[0]\n",
    "    new_data['macd9'] = [macd9]\n",
    "    new_data['macdh'] = [macd - macd9]\n",
    "\n",
    "    source.stream(new_data, 300)"
   ]
  },
  {
   "cell_type": "code",
   "execution_count": null,
   "metadata": {},
   "outputs": [],
   "source": [
    "curdoc().add_root(column(row(mean, stddev, mavg), gridplot([[p], [p2]], toolbar_location=\"left\", plot_width=1000)))\n",
    "curdoc().add_periodic_callback(update, 100)\n",
    "curdoc().title = \"OHLC\""
   ]
  }
 ],
 "metadata": {
  "kernelspec": {
   "display_name": "Python 3",
   "language": "python",
   "name": "python3"
  },
  "language_info": {
   "codemirror_mode": {
    "name": "ipython",
    "version": 3
   },
   "file_extension": ".py",
   "mimetype": "text/x-python",
   "name": "python",
   "nbconvert_exporter": "python",
   "pygments_lexer": "ipython3",
   "version": "3.7.3"
  }
 },
 "nbformat": 4,
 "nbformat_minor": 2
}
