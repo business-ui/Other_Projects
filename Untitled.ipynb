{
 "cells": [
  {
   "cell_type": "code",
   "execution_count": null,
   "metadata": {},
   "outputs": [],
   "source": [
    "import pandas as pd\n",
    "import matplotlib.pyplot as plt\n",
    "from bokeh.models import NumeralTickFormatter\n",
    "from datetime import timedelta\n",
    "import numpy as np"
   ]
  },
  {
   "cell_type": "code",
   "execution_count": null,
   "metadata": {},
   "outputs": [],
   "source": [
    "#Unemployment Rate\n",
    "unemployment_rate = fred.get_series('UNRATE')\n",
    "unemployment_rate = unemployment_rate/100\n",
    "unemployment_rate_quarterly = unemployment_rate.groupby(pd.Grouper(freq=\"Q\")).last()\n",
    "\n",
    "#Inflation Rate\n",
    "cpi = fred.get_series('CPIAUCSL')\n",
    "inflation_rate_p2p = inflation_rate.pct_change()\n",
    "inflation_rate = cpi.pct_change(periods=12)\n",
    "inflation_rate_quarterly = inflation_rate.groupby(pd.Grouper(freq=\"Q\")).last()\n",
    "inflation_rate_quarterly.index = inflation_rate_quarterly.index + timedelta(days=1)"
   ]
  },
  {
   "cell_type": "markdown",
   "metadata": {},
   "source": [
    "## Irving Fisher formulated the Quantity Theory of Money in terms of the \"Equation of Exchange\" in 1910.\n",
    "![alt text](https://upload.wikimedia.org/wikipedia/commons/thumb/7/7d/Irvingfisher.jpg/220px-Irvingfisher.jpg)\n",
    "\n",
    "## MV + M'V' = PT\n",
    "\n",
    "### The purchasing power of money is determined by five factors:\n",
    "1. M: The volume of money in circulation.\n",
    "2. V: The velocity of money circulation in a given year.\n",
    "3. M': The volume of bank deposits subject to check.\n",
    "4. V': Their velocity of circulation.\n",
    "5. T: The general level of trade.\n",
    "\n",
    "### T, or the level of trade, is substituted by Y; the real GDP.\n",
    "### P, or the GDP price deflator, is a measure of the level of prices of all new, domestically produced, final goods and services in an economy.\n",
    "### P * Y is by definition equal to the nominal GDP; the inflation-UNadjusted GDP.\n",
    "\n",
    "### The terms M and M' are combined in the M2 monetary supply measure from the Federal Reserve, as are the terms V and V' in the M2V velocity of M2 circulation measure.\n",
    "\n",
    "# Given these facts, we derive the equation:\n",
    "\n",
    "## MV = PY' = Y\n",
    "## OR\n",
    "## Money Supply * Velocity of Money = GDP Price Deflator * Real GDP = Nominal GDP"
   ]
  }
 ],
 "metadata": {
  "kernelspec": {
   "display_name": "Python 3",
   "language": "python",
   "name": "python3"
  },
  "language_info": {
   "codemirror_mode": {
    "name": "ipython",
    "version": 3
   },
   "file_extension": ".py",
   "mimetype": "text/x-python",
   "name": "python",
   "nbconvert_exporter": "python",
   "pygments_lexer": "ipython3",
   "version": "3.7.3"
  }
 },
 "nbformat": 4,
 "nbformat_minor": 4
}
